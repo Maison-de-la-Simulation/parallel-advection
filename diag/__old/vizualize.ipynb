{
 "cells": [
  {
   "cell_type": "code",
   "execution_count": 1,
   "metadata": {},
   "outputs": [],
   "source": [
    "import pandas as pd\n",
    "import matplotlib.pyplot as plt\n",
    "import numpy as np\n",
    "import configparser\n",
    "import math"
   ]
  },
  {
   "cell_type": "code",
   "execution_count": 2,
   "metadata": {},
   "outputs": [
    {
     "ename": "KeyError",
     "evalue": "'run'",
     "output_type": "error",
     "traceback": [
      "\u001b[0;31m---------------------------------------------------------------------------\u001b[0m",
      "\u001b[0;31mKeyError\u001b[0m                                  Traceback (most recent call last)",
      "Cell \u001b[0;32mIn[2], line 5\u001b[0m\n\u001b[1;32m      1\u001b[0m config \u001b[38;5;241m=\u001b[39m configparser\u001b[38;5;241m.\u001b[39mConfigParser()\n\u001b[1;32m      2\u001b[0m config\u001b[38;5;241m.\u001b[39mread(\u001b[38;5;124m'\u001b[39m\u001b[38;5;124m../build/src/advection.ini\u001b[39m\u001b[38;5;124m'\u001b[39m)\n\u001b[0;32m----> 5\u001b[0m nIter \u001b[38;5;241m=\u001b[39m \u001b[38;5;28mint\u001b[39m(\u001b[43mconfig\u001b[49m\u001b[43m[\u001b[49m\u001b[38;5;124;43m'\u001b[39;49m\u001b[38;5;124;43mrun\u001b[39;49m\u001b[38;5;124;43m'\u001b[39;49m\u001b[43m]\u001b[49m[\u001b[38;5;124m'\u001b[39m\u001b[38;5;124mmaxIter\u001b[39m\u001b[38;5;124m'\u001b[39m])\n\u001b[1;32m      6\u001b[0m dt    \u001b[38;5;241m=\u001b[39m \u001b[38;5;28mfloat\u001b[39m(config[\u001b[38;5;124m'\u001b[39m\u001b[38;5;124mdiscretization\u001b[39m\u001b[38;5;124m'\u001b[39m][\u001b[38;5;124m'\u001b[39m\u001b[38;5;124mdt\u001b[39m\u001b[38;5;124m'\u001b[39m])\n\u001b[1;32m      7\u001b[0m dvx   \u001b[38;5;241m=\u001b[39m \u001b[38;5;28mfloat\u001b[39m(config[\u001b[38;5;124m'\u001b[39m\u001b[38;5;124mdiscretization\u001b[39m\u001b[38;5;124m'\u001b[39m][\u001b[38;5;124m'\u001b[39m\u001b[38;5;124mdvx\u001b[39m\u001b[38;5;124m'\u001b[39m])\n",
      "File \u001b[0;32m/usr/lib/python3.10/configparser.py:965\u001b[0m, in \u001b[0;36mRawConfigParser.__getitem__\u001b[0;34m(self, key)\u001b[0m\n\u001b[1;32m    963\u001b[0m \u001b[38;5;28;01mdef\u001b[39;00m \u001b[38;5;21m__getitem__\u001b[39m(\u001b[38;5;28mself\u001b[39m, key):\n\u001b[1;32m    964\u001b[0m     \u001b[38;5;28;01mif\u001b[39;00m key \u001b[38;5;241m!=\u001b[39m \u001b[38;5;28mself\u001b[39m\u001b[38;5;241m.\u001b[39mdefault_section \u001b[38;5;129;01mand\u001b[39;00m \u001b[38;5;129;01mnot\u001b[39;00m \u001b[38;5;28mself\u001b[39m\u001b[38;5;241m.\u001b[39mhas_section(key):\n\u001b[0;32m--> 965\u001b[0m         \u001b[38;5;28;01mraise\u001b[39;00m \u001b[38;5;167;01mKeyError\u001b[39;00m(key)\n\u001b[1;32m    966\u001b[0m     \u001b[38;5;28;01mreturn\u001b[39;00m \u001b[38;5;28mself\u001b[39m\u001b[38;5;241m.\u001b[39m_proxies[key]\n",
      "\u001b[0;31mKeyError\u001b[0m: 'run'"
     ]
    }
   ],
   "source": [
    "config = configparser.ConfigParser()\n",
    "config.read('../build/src/advection.ini')\n",
    "\n",
    "\n",
    "nIter = int(config['run']['maxIter'])\n",
    "dt    = float(config['discretization']['dt'])\n",
    "dvx   = float(config['discretization']['dvx'])\n",
    "minX  = float(config['discretization']['minRealX'])\n",
    "maxX  = float(config['discretization']['maxRealX'])\n",
    "minVx = float(config['discretization']['minRealVx'])\n",
    "\n",
    "df = pd.read_csv(\"../build/src/solution.log\", sep=\",\", header=None)\n",
    "\n",
    "dx = (maxX - minX) / len(df.columns)\n",
    "\n",
    "print(f\"\\\n",
    "nIter : {nIter}\\n\\\n",
    "dt    : {dt}\\n\\\n",
    "dx    : {dx}\\n\\\n",
    "dvx   : {dvx}\\n\\\n",
    "minX  : {minX}\\n\\\n",
    "maxX  : {maxX}\\n\\\n",
    "minVx : {minVx}\")\n",
    "\n",
    "# df"
   ]
  },
  {
   "attachments": {},
   "cell_type": "markdown",
   "metadata": {},
   "source": [
    "# Plot exact solution and numerical approx"
   ]
  },
  {
   "cell_type": "code",
   "execution_count": null,
   "metadata": {},
   "outputs": [],
   "source": [
    "t = nIter*dt\n",
    "x = np.arange(minX, maxX, step=dx)\n",
    "\n",
    "# for iloc in range(len(df)):\n",
    "for iloc in range(10):\n",
    "    currV = minVx + iloc * dvx\n",
    "    print(f\"Vx[{iloc}] = {currV}\")\n",
    "\n",
    "    plt.figure(figsize=(25,4))\n",
    "    y = df.iloc[iloc]\n",
    "    plt.plot(x, y, '-rx') #plot numerical approximation\n",
    "    plt.plot(x, np.sin((x - t*currV)*4*math.pi)) #plot the exact solution for this Vx\n",
    "    plt.grid()\n",
    "    plt.show()\n"
   ]
  },
  {
   "attachments": {},
   "cell_type": "markdown",
   "metadata": {},
   "source": [
    "# Error diag"
   ]
  },
  {
   "cell_type": "code",
   "execution_count": null,
   "metadata": {},
   "outputs": [],
   "source": [
    "df_err = pd.read_csv(\"../build/src/error.log\", sep=\",\", header=None)\n",
    "\n",
    "t = nIter*dt\n",
    "x = np.arange(minX, maxX, step=dx)\n",
    "\n",
    "# for iloc in range(len(df_err)):\n",
    "for iloc in range(10):\n",
    "    currV = minVx + iloc * dvx\n",
    "    print(f\"Vx[{iloc}] = {currV}\")\n",
    "\n",
    "    plt.figure(figsize=(25,4))\n",
    "    y = df_err.iloc[iloc]\n",
    "    plt.plot(x, y, '-r')\n",
    "    plt.grid()\n",
    "    plt.show()"
   ]
  }
 ],
 "metadata": {
  "kernelspec": {
   "display_name": "venv_advection",
   "language": "python",
   "name": "python3"
  },
  "language_info": {
   "codemirror_mode": {
    "name": "ipython",
    "version": 3
   },
   "file_extension": ".py",
   "mimetype": "text/x-python",
   "name": "python",
   "nbconvert_exporter": "python",
   "pygments_lexer": "ipython3",
   "version": "3.10.12"
  },
  "orig_nbformat": 4
 },
 "nbformat": 4,
 "nbformat_minor": 2
}
